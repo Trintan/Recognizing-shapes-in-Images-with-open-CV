{
 "cells": [
  {
   "cell_type": "code",
   "execution_count": 1,
   "id": "3b25f420",
   "metadata": {},
   "outputs": [
    {
     "name": "stdout",
     "output_type": "stream",
     "text": [
      "Requirement already satisfied: opencv-python in c:\\users\\danie\\.jupyter\\anaconda\\lib\\site-packages (4.7.0.72)\n",
      "Requirement already satisfied: numpy>=1.17.3 in c:\\users\\danie\\.jupyter\\anaconda\\lib\\site-packages (from opencv-python) (1.21.5)\n",
      "Note: you may need to restart the kernel to use updated packages.\n"
     ]
    }
   ],
   "source": [
    "pip install opencv-python"
   ]
  },
  {
   "cell_type": "code",
   "execution_count": 1,
   "id": "0bbdb085",
   "metadata": {},
   "outputs": [],
   "source": [
    "#edge detection\n",
    "import cv2\n",
    "padam=cv2.imread(\"background.jpg\")\n",
    "padam=cv2.resize(padam,(800,600))\n",
    "blurred=cv2.GaussianBlur(padam,(7,7),0)\n",
    "edges=cv2.Canny(blurred,100,200)\n",
    "cv2.imshow(\"real image\", padam)\n",
    "cv2.imshow(\"blurred image\", blurred)\n",
    "cv2.imshow(\"edges\",edges)\n",
    "cv2.waitKey(0)\n",
    "cv2.destroyAllWindows()"
   ]
  },
  {
   "cell_type": "code",
   "execution_count": null,
   "id": "b03b673f",
   "metadata": {},
   "outputs": [],
   "source": [
    "import cv2\n",
    "padam=cv2.imread(\"background.jpg\")\n",
    "padam=cv2.resize(padam,(1200,1000))\n",
    "# Convert the image to grayscale\n",
    "gray_image = cv2.cvtColor(padam, cv2.COLOR_BGR2GRAY)\n",
    "\n",
    "# Apply Canny edge detection\n",
    "edges = cv2.Canny(gray_image, threshold1=400, threshold2=500)\n",
    "\n",
    "# Find contours in the image\n",
    "contours, _ = cv2.findContours(edges, cv2.RETR_EXTERNAL, cv2.CHAIN_APPROX_SIMPLE)\n",
    "\n",
    "# Loop through each contour and identify shapes\n",
    "for contour in contours:\n",
    "    perimeter = cv2.arcLength(contour, True)\n",
    "    approx = cv2.approxPolyDP(contour, 0.04 * perimeter, True)\n",
    "    num_vertices = len(approx)\n",
    "\n",
    "    # Classify shapes based on the number of vertices\n",
    "    if num_vertices == 3:\n",
    "        shape_name = \"Triangle\"\n",
    "    elif num_vertices == 4:\n",
    "        shape_name = \"Rectangle\"\n",
    "    elif num_vertices == 5:\n",
    "        shape_name = \"Pentagon\"\n",
    "    else:\n",
    "        shape_name = \"Circle\"\n",
    "\n",
    "    # Draw the shape name on the image\n",
    "    x, y = approx.ravel()[0], approx.ravel()[1]\n",
    "    cv2.putText(padam, shape_name, (x, y), cv2.FONT_HERSHEY_SIMPLEX, 0.5, (255, 255, 255), 2)\n",
    "\n",
    "# Display the image with recognized shapes\n",
    "cv2.imshow(\"Recognized Shapes\", padam)\n",
    "cv2.waitKey(0)\n",
    "cv2.destroyAllWindows()"
   ]
  },
  {
   "cell_type": "code",
   "execution_count": null,
   "id": "2973fd99",
   "metadata": {},
   "outputs": [],
   "source": []
  },
  {
   "cell_type": "code",
   "execution_count": null,
   "id": "6ae479d5",
   "metadata": {},
   "outputs": [],
   "source": []
  }
 ],
 "metadata": {
  "kernelspec": {
   "display_name": "Python 3 (ipykernel)",
   "language": "python",
   "name": "python3"
  },
  "language_info": {
   "codemirror_mode": {
    "name": "ipython",
    "version": 3
   },
   "file_extension": ".py",
   "mimetype": "text/x-python",
   "name": "python",
   "nbconvert_exporter": "python",
   "pygments_lexer": "ipython3",
   "version": "3.9.12"
  }
 },
 "nbformat": 4,
 "nbformat_minor": 5
}
